{
  "nbformat": 4,
  "nbformat_minor": 0,
  "metadata": {
    "colab": {
      "provenance": [],
      "authorship_tag": "ABX9TyOo8JBM3lY9U4ZCS3C7DkIp",
      "include_colab_link": true
    },
    "kernelspec": {
      "name": "python3",
      "display_name": "Python 3"
    },
    "language_info": {
      "name": "python"
    }
  },
  "cells": [
    {
      "cell_type": "markdown",
      "metadata": {
        "id": "view-in-github",
        "colab_type": "text"
      },
      "source": [
        "<a href=\"https://colab.research.google.com/github/ChadDelany/causalpy_examples/blob/main/CausalPy_intro.ipynb\" target=\"_parent\"><img src=\"https://colab.research.google.com/assets/colab-badge.svg\" alt=\"Open In Colab\"/></a>"
      ]
    },
    {
      "cell_type": "code",
      "execution_count": null,
      "metadata": {
        "id": "2vCXC6CMy2b3",
        "colab": {
          "base_uri": "https://localhost:8080/",
          "height": 1000
        },
        "outputId": "aa8c8721-b3e4-4cab-9323-7f67c0985d71"
      },
      "outputs": [
        {
          "output_type": "stream",
          "name": "stdout",
          "text": [
            "Looking in indexes: https://pypi.org/simple, https://us-python.pkg.dev/colab-wheels/public/simple/\n",
            "Collecting CausalPy\n",
            "  Downloading CausalPy-0.0.7.tar.gz (89 kB)\n",
            "\u001b[K     |████████████████████████████████| 89 kB 3.5 MB/s \n",
            "\u001b[?25h  Installing build dependencies ... \u001b[?25l\u001b[?25hdone\n",
            "  Getting requirements to build wheel ... \u001b[?25l\u001b[?25hdone\n",
            "    Preparing wheel metadata ... \u001b[?25l\u001b[?25hdone\n",
            "Requirement already satisfied: numpy in /usr/local/lib/python3.8/dist-packages (from CausalPy) (1.21.6)\n",
            "Requirement already satisfied: xarray>=v2022.11.0 in /usr/local/lib/python3.8/dist-packages (from CausalPy) (2022.12.0)\n",
            "Requirement already satisfied: scipy in /usr/local/lib/python3.8/dist-packages (from CausalPy) (1.7.3)\n",
            "Collecting arviz>=0.14.0\n",
            "  Downloading arviz-0.14.0-py3-none-any.whl (1.7 MB)\n",
            "\u001b[K     |████████████████████████████████| 1.7 MB 25.6 MB/s \n",
            "\u001b[?25hRequirement already satisfied: patsy in /usr/local/lib/python3.8/dist-packages (from CausalPy) (0.5.3)\n",
            "Requirement already satisfied: pandas in /usr/local/lib/python3.8/dist-packages (from CausalPy) (1.3.5)\n",
            "Collecting matplotlib>=3.5.3\n",
            "  Downloading matplotlib-3.6.2-cp38-cp38-manylinux_2_12_x86_64.manylinux2010_x86_64.whl (9.4 MB)\n",
            "\u001b[K     |████████████████████████████████| 9.4 MB 50.5 MB/s \n",
            "\u001b[?25hRequirement already satisfied: graphviz in /usr/local/lib/python3.8/dist-packages (from CausalPy) (0.10.1)\n",
            "Requirement already satisfied: pymc>=4.0.0 in /usr/local/lib/python3.8/dist-packages (from CausalPy) (4.1.4)\n",
            "Requirement already satisfied: scikit-learn>=1 in /usr/local/lib/python3.8/dist-packages (from CausalPy) (1.0.2)\n",
            "Requirement already satisfied: ipython!=8.7.0 in /usr/local/lib/python3.8/dist-packages (from CausalPy) (7.9.0)\n",
            "Requirement already satisfied: seaborn>=0.11.2 in /usr/local/lib/python3.8/dist-packages (from CausalPy) (0.11.2)\n",
            "Collecting scipy\n",
            "  Downloading scipy-1.9.3-cp38-cp38-manylinux_2_17_x86_64.manylinux2014_x86_64.whl (33.8 MB)\n",
            "\u001b[K     |████████████████████████████████| 33.8 MB 190 kB/s \n",
            "\u001b[?25hCollecting pandas\n",
            "  Downloading pandas-1.5.2-cp38-cp38-manylinux_2_17_x86_64.manylinux2014_x86_64.whl (12.2 MB)\n",
            "\u001b[K     |████████████████████████████████| 12.2 MB 49.2 MB/s \n",
            "\u001b[?25hRequirement already satisfied: typing-extensions>=4.1.0 in /usr/local/lib/python3.8/dist-packages (from arviz>=0.14.0->CausalPy) (4.4.0)\n",
            "Requirement already satisfied: packaging in /usr/local/lib/python3.8/dist-packages (from arviz>=0.14.0->CausalPy) (21.3)\n",
            "Collecting setuptools>=60.0.0\n",
            "  Using cached setuptools-65.6.3-py3-none-any.whl (1.2 MB)\n",
            "Requirement already satisfied: netcdf4 in /usr/local/lib/python3.8/dist-packages (from arviz>=0.14.0->CausalPy) (1.6.2)\n",
            "Requirement already satisfied: xarray-einstats>=0.3 in /usr/local/lib/python3.8/dist-packages (from arviz>=0.14.0->CausalPy) (0.4.0)\n",
            "Requirement already satisfied: prompt-toolkit<2.1.0,>=2.0.0 in /usr/local/lib/python3.8/dist-packages (from ipython!=8.7.0->CausalPy) (2.0.10)\n",
            "Requirement already satisfied: pickleshare in /usr/local/lib/python3.8/dist-packages (from ipython!=8.7.0->CausalPy) (0.7.5)\n",
            "Requirement already satisfied: decorator in /usr/local/lib/python3.8/dist-packages (from ipython!=8.7.0->CausalPy) (4.4.2)\n",
            "Requirement already satisfied: pygments in /usr/local/lib/python3.8/dist-packages (from ipython!=8.7.0->CausalPy) (2.6.1)\n",
            "Requirement already satisfied: traitlets>=4.2 in /usr/local/lib/python3.8/dist-packages (from ipython!=8.7.0->CausalPy) (5.7.1)\n",
            "Collecting jedi>=0.10\n",
            "  Downloading jedi-0.18.2-py2.py3-none-any.whl (1.6 MB)\n",
            "\u001b[K     |████████████████████████████████| 1.6 MB 52.6 MB/s \n",
            "\u001b[?25hRequirement already satisfied: pexpect in /usr/local/lib/python3.8/dist-packages (from ipython!=8.7.0->CausalPy) (4.8.0)\n",
            "Requirement already satisfied: backcall in /usr/local/lib/python3.8/dist-packages (from ipython!=8.7.0->CausalPy) (0.2.0)\n",
            "Requirement already satisfied: parso<0.9.0,>=0.8.0 in /usr/local/lib/python3.8/dist-packages (from jedi>=0.10->ipython!=8.7.0->CausalPy) (0.8.3)\n",
            "Requirement already satisfied: pillow>=6.2.0 in /usr/local/lib/python3.8/dist-packages (from matplotlib>=3.5.3->CausalPy) (7.1.2)\n",
            "Requirement already satisfied: kiwisolver>=1.0.1 in /usr/local/lib/python3.8/dist-packages (from matplotlib>=3.5.3->CausalPy) (1.4.4)\n",
            "Requirement already satisfied: pyparsing>=2.2.1 in /usr/local/lib/python3.8/dist-packages (from matplotlib>=3.5.3->CausalPy) (3.0.9)\n",
            "Requirement already satisfied: python-dateutil>=2.7 in /usr/local/lib/python3.8/dist-packages (from matplotlib>=3.5.3->CausalPy) (2.8.2)\n",
            "Requirement already satisfied: cycler>=0.10 in /usr/local/lib/python3.8/dist-packages (from matplotlib>=3.5.3->CausalPy) (0.11.0)\n",
            "Collecting fonttools>=4.22.0\n",
            "  Downloading fonttools-4.38.0-py3-none-any.whl (965 kB)\n",
            "\u001b[K     |████████████████████████████████| 965 kB 64.9 MB/s \n",
            "\u001b[?25hCollecting contourpy>=1.0.1\n",
            "  Downloading contourpy-1.0.6-cp38-cp38-manylinux_2_17_x86_64.manylinux2014_x86_64.whl (295 kB)\n",
            "\u001b[K     |████████████████████████████████| 295 kB 67.7 MB/s \n",
            "\u001b[?25hRequirement already satisfied: pytz>=2020.1 in /usr/local/lib/python3.8/dist-packages (from pandas->CausalPy) (2022.6)\n",
            "Requirement already satisfied: six>=1.9.0 in /usr/local/lib/python3.8/dist-packages (from prompt-toolkit<2.1.0,>=2.0.0->ipython!=8.7.0->CausalPy) (1.15.0)\n",
            "Requirement already satisfied: wcwidth in /usr/local/lib/python3.8/dist-packages (from prompt-toolkit<2.1.0,>=2.0.0->ipython!=8.7.0->CausalPy) (0.2.5)\n",
            "Requirement already satisfied: cloudpickle in /usr/local/lib/python3.8/dist-packages (from pymc>=4.0.0->CausalPy) (1.5.0)\n",
            "Requirement already satisfied: cachetools>=4.2.1 in /usr/local/lib/python3.8/dist-packages (from pymc>=4.0.0->CausalPy) (5.2.0)\n",
            "Requirement already satisfied: aesara==2.7.9 in /usr/local/lib/python3.8/dist-packages (from pymc>=4.0.0->CausalPy) (2.7.9)\n",
            "Requirement already satisfied: aeppl==0.0.33 in /usr/local/lib/python3.8/dist-packages (from pymc>=4.0.0->CausalPy) (0.0.33)\n",
            "Requirement already satisfied: fastprogress>=0.2.0 in /usr/local/lib/python3.8/dist-packages (from pymc>=4.0.0->CausalPy) (1.0.3)\n",
            "Requirement already satisfied: filelock in /usr/local/lib/python3.8/dist-packages (from aesara==2.7.9->pymc>=4.0.0->CausalPy) (3.8.2)\n",
            "Requirement already satisfied: logical-unification in /usr/local/lib/python3.8/dist-packages (from aesara==2.7.9->pymc>=4.0.0->CausalPy) (0.4.5)\n",
            "Requirement already satisfied: miniKanren in /usr/local/lib/python3.8/dist-packages (from aesara==2.7.9->pymc>=4.0.0->CausalPy) (1.0.3)\n",
            "Requirement already satisfied: cons in /usr/local/lib/python3.8/dist-packages (from aesara==2.7.9->pymc>=4.0.0->CausalPy) (0.4.5)\n",
            "Requirement already satisfied: etuples in /usr/local/lib/python3.8/dist-packages (from aesara==2.7.9->pymc>=4.0.0->CausalPy) (0.3.8)\n",
            "Requirement already satisfied: joblib>=0.11 in /usr/local/lib/python3.8/dist-packages (from scikit-learn>=1->CausalPy) (1.2.0)\n",
            "Requirement already satisfied: threadpoolctl>=2.0.0 in /usr/local/lib/python3.8/dist-packages (from scikit-learn>=1->CausalPy) (3.1.0)\n",
            "Requirement already satisfied: multipledispatch in /usr/local/lib/python3.8/dist-packages (from logical-unification->aesara==2.7.9->pymc>=4.0.0->CausalPy) (0.6.0)\n",
            "Requirement already satisfied: toolz in /usr/local/lib/python3.8/dist-packages (from logical-unification->aesara==2.7.9->pymc>=4.0.0->CausalPy) (0.12.0)\n",
            "Requirement already satisfied: cftime in /usr/local/lib/python3.8/dist-packages (from netcdf4->arviz>=0.14.0->CausalPy) (1.6.2)\n",
            "Requirement already satisfied: ptyprocess>=0.5 in /usr/local/lib/python3.8/dist-packages (from pexpect->ipython!=8.7.0->CausalPy) (0.7.0)\n",
            "Building wheels for collected packages: CausalPy\n",
            "  Building wheel for CausalPy (PEP 517) ... \u001b[?25l\u001b[?25hdone\n",
            "  Created wheel for CausalPy: filename=CausalPy-0.0.7-py3-none-any.whl size=86461 sha256=16b15eee35da120f7ea4f87db4e13f3f417da8f8982f1a411c47bf8caf2de25f\n",
            "  Stored in directory: /root/.cache/pip/wheels/81/5e/be/b203b21d2633e5ea71916764fe03a78e45b4a862bee124751c\n",
            "Successfully built CausalPy\n",
            "Installing collected packages: pandas, setuptools, scipy, fonttools, contourpy, matplotlib, jedi, arviz, CausalPy\n",
            "  Attempting uninstall: pandas\n",
            "    Found existing installation: pandas 1.3.5\n",
            "    Uninstalling pandas-1.3.5:\n",
            "      Successfully uninstalled pandas-1.3.5\n",
            "  Attempting uninstall: setuptools\n",
            "    Found existing installation: setuptools 57.4.0\n",
            "    Uninstalling setuptools-57.4.0:\n",
            "      Successfully uninstalled setuptools-57.4.0\n",
            "  Attempting uninstall: scipy\n",
            "    Found existing installation: scipy 1.7.3\n",
            "    Uninstalling scipy-1.7.3:\n",
            "      Successfully uninstalled scipy-1.7.3\n",
            "  Attempting uninstall: matplotlib\n",
            "    Found existing installation: matplotlib 3.2.2\n",
            "    Uninstalling matplotlib-3.2.2:\n",
            "      Successfully uninstalled matplotlib-3.2.2\n",
            "  Attempting uninstall: arviz\n",
            "    Found existing installation: arviz 0.12.1\n",
            "    Uninstalling arviz-0.12.1:\n",
            "      Successfully uninstalled arviz-0.12.1\n",
            "Successfully installed CausalPy-0.0.7 arviz-0.14.0 contourpy-1.0.6 fonttools-4.38.0 jedi-0.18.2 matplotlib-3.6.2 pandas-1.5.2 scipy-1.9.3 setuptools-65.6.3\n"
          ]
        },
        {
          "output_type": "display_data",
          "data": {
            "application/vnd.colab-display-data+json": {
              "pip_warning": {
                "packages": [
                  "matplotlib",
                  "mpl_toolkits",
                  "pkg_resources"
                ]
              }
            }
          },
          "metadata": {}
        }
      ],
      "source": [
        "!pip install CausalPy\n",
        "# !pip install git+https://github.com/pymc-labs/CausalPy.git"
      ]
    },
    {
      "cell_type": "code",
      "source": [
        "# import library\n",
        "import causalpy as cp"
      ],
      "metadata": {
        "id": "u8yn9NknxFYB"
      },
      "execution_count": null,
      "outputs": []
    },
    {
      "cell_type": "code",
      "source": [
        "# Import and process data\n",
        "df = (\n",
        "    cp.load_data(\"drinking\")\n",
        "    .rename(columns={\"agecell\": \"age\"})\n",
        "    .assign(treated=lambda df_: df_.age > 21)\n",
        "    )"
      ],
      "metadata": {
        "id": "I2eJr1gckUtI"
      },
      "execution_count": null,
      "outputs": []
    },
    {
      "cell_type": "code",
      "source": [
        "# Run the analysis\n",
        "result = cp.pymc_experiments.RegressionDiscontinuity(\n",
        "    df,\n",
        "    formula=\"all ~ 1 + age + treated\",\n",
        "    running_variable_name=\"age\",\n",
        "    prediction_model=cp.pymc_models.LinearRegression(),\n",
        "    treatment_threshold=21,\n",
        "    )"
      ],
      "metadata": {
        "colab": {
          "base_uri": "https://localhost:8080/",
          "height": 92
        },
        "id": "-tdN3eThkYb3",
        "outputId": "7280cd11-e759-42de-c067-21b60e40cea0"
      },
      "execution_count": null,
      "outputs": [
        {
          "output_type": "stream",
          "name": "stderr",
          "text": [
            "WARNING:aesara.tensor.blas:We did not find a dynamic library in the library_dir of the library we use for blas. If you use ATLAS, make sure to compile it with dynamics library.\n",
            "WARNING:aesara.tensor.blas:We did not find a dynamic library in the library_dir of the library we use for blas. If you use ATLAS, make sure to compile it with dynamics library.\n"
          ]
        },
        {
          "output_type": "display_data",
          "data": {
            "text/plain": [
              "<IPython.core.display.HTML object>"
            ],
            "text/html": [
              "\n",
              "<style>\n",
              "    /* Turns off some styling */\n",
              "    progress {\n",
              "        /* gets rid of default border in Firefox and Opera. */\n",
              "        border: none;\n",
              "        /* Needs to be in here for Safari polyfill so background images work as expected. */\n",
              "        background-size: auto;\n",
              "    }\n",
              "    progress:not([value]), progress:not([value])::-webkit-progress-bar {\n",
              "        background: repeating-linear-gradient(45deg, #7e7e7e, #7e7e7e 10px, #5c5c5c 10px, #5c5c5c 20px);\n",
              "    }\n",
              "    .progress-bar-interrupted, .progress-bar-interrupted::-webkit-progress-bar {\n",
              "        background: #F44336;\n",
              "    }\n",
              "</style>\n"
            ]
          },
          "metadata": {}
        },
        {
          "output_type": "display_data",
          "data": {
            "text/plain": [
              "<IPython.core.display.HTML object>"
            ],
            "text/html": [
              "\n",
              "    <div>\n",
              "      <progress value='2000' class='' max='2000' style='width:300px; height:20px; vertical-align: middle;'></progress>\n",
              "      100.00% [2000/2000 00:38&lt;00:00 Sampling chain 0, 0 divergences]\n",
              "    </div>\n",
              "    "
            ]
          },
          "metadata": {}
        },
        {
          "output_type": "display_data",
          "data": {
            "text/plain": [
              "<IPython.core.display.HTML object>"
            ],
            "text/html": [
              "\n",
              "<style>\n",
              "    /* Turns off some styling */\n",
              "    progress {\n",
              "        /* gets rid of default border in Firefox and Opera. */\n",
              "        border: none;\n",
              "        /* Needs to be in here for Safari polyfill so background images work as expected. */\n",
              "        background-size: auto;\n",
              "    }\n",
              "    progress:not([value]), progress:not([value])::-webkit-progress-bar {\n",
              "        background: repeating-linear-gradient(45deg, #7e7e7e, #7e7e7e 10px, #5c5c5c 10px, #5c5c5c 20px);\n",
              "    }\n",
              "    .progress-bar-interrupted, .progress-bar-interrupted::-webkit-progress-bar {\n",
              "        background: #F44336;\n",
              "    }\n",
              "</style>\n"
            ]
          },
          "metadata": {}
        },
        {
          "output_type": "display_data",
          "data": {
            "text/plain": [
              "<IPython.core.display.HTML object>"
            ],
            "text/html": [
              "\n",
              "    <div>\n",
              "      <progress value='2000' class='' max='2000' style='width:300px; height:20px; vertical-align: middle;'></progress>\n",
              "      100.00% [2000/2000 00:39&lt;00:00 Sampling chain 1, 0 divergences]\n",
              "    </div>\n",
              "    "
            ]
          },
          "metadata": {}
        }
      ]
    },
    {
      "cell_type": "code",
      "source": [
        "# Visualize outputs\n",
        "fig, ax = result.plot();"
      ],
      "metadata": {
        "colab": {
          "base_uri": "https://localhost:8080/",
          "height": 183
        },
        "id": "5iC63xI2kaYi",
        "outputId": "aaaff41d-0835-4498-d622-151eb15b3218"
      },
      "execution_count": null,
      "outputs": [
        {
          "output_type": "error",
          "ename": "TypeError",
          "evalue": "ignored",
          "traceback": [
            "\u001b[0;31m---------------------------------------------------------------------------\u001b[0m",
            "\u001b[0;31mTypeError\u001b[0m                                 Traceback (most recent call last)",
            "\u001b[0;32m<ipython-input-6-cc34f4c164de>\u001b[0m in \u001b[0;36m<module>\u001b[0;34m\u001b[0m\n\u001b[1;32m      1\u001b[0m \u001b[0;31m# Visualize outputs\u001b[0m\u001b[0;34m\u001b[0m\u001b[0;34m\u001b[0m\u001b[0;34m\u001b[0m\u001b[0m\n\u001b[0;32m----> 2\u001b[0;31m \u001b[0mfig\u001b[0m\u001b[0;34m,\u001b[0m \u001b[0max\u001b[0m \u001b[0;34m=\u001b[0m \u001b[0mresult\u001b[0m\u001b[0;34m.\u001b[0m\u001b[0mplot\u001b[0m\u001b[0;34m(\u001b[0m\u001b[0mplot_predictors\u001b[0m\u001b[0;34m=\u001b[0m\u001b[0;32mFalse\u001b[0m\u001b[0;34m)\u001b[0m\u001b[0;34m;\u001b[0m\u001b[0;34m\u001b[0m\u001b[0;34m\u001b[0m\u001b[0m\n\u001b[0m",
            "\u001b[0;31mTypeError\u001b[0m: plot() got an unexpected keyword argument 'plot_predictors'"
          ]
        }
      ]
    },
    {
      "cell_type": "code",
      "source": [
        "# Get a results summary\n",
        "result.summary()"
      ],
      "metadata": {
        "colab": {
          "base_uri": "https://localhost:8080/"
        },
        "id": "kTJC4-XOkc2B",
        "outputId": "990c4b6a-49ef-4e3f-d251-f47e77ef4eab"
      },
      "execution_count": null,
      "outputs": [
        {
          "output_type": "stream",
          "name": "stdout",
          "text": [
            "============================Regression Discontinuity============================\n",
            "Formula: all ~ 1 + age + treated\n",
            "Running variable: age\n",
            "Threshold on running variable: 21\n",
            "\n",
            "Results:\n",
            "Discontinuity at threshold = 7.05\n",
            "Model coefficients:\n",
            "Intercept                     105.72, 94% HDI [81.80, 128.33]\n",
            "treated[T.True]               7.05, 94% HDI [4.24, 9.57]\n",
            "age                           -0.65, 94% HDI [-1.76, 0.55]\n",
            "sigma                         2.42, 94% HDI [1.99, 2.92]\n"
          ]
        }
      ]
    }
  ]
}
